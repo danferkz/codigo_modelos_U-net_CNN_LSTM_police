{
 "cells": [
  {
   "cell_type": "code",
   "execution_count": 2,
   "id": "1fd40338-bfe9-4fdb-9c11-a6f900d95a8c",
   "metadata": {},
   "outputs": [],
   "source": [
    "import os\n",
    "import time\n",
    "import numpy as np\n",
    "import cv2\n",
    "from glob import glob\n",
    "from tqdm import tqdm\n",
    "import tensorflow as tf"
   ]
  },
  {
   "cell_type": "code",
   "execution_count": 3,
   "id": "0476947d-c617-45b7-9483-f5f1e4eb3c06",
   "metadata": {},
   "outputs": [],
   "source": [
    "height=960\n",
    "width=540"
   ]
  },
  {
   "cell_type": "code",
   "execution_count": 4,
   "id": "46171d32-59ac-4e64-a000-5f560c3dd326",
   "metadata": {},
   "outputs": [],
   "source": [
    "dataset_path=\"dataset\"\n",
    "save_path=\"prediction/non-aug\"\n",
    "model_path=\"unet-non-aug.h5\""
   ]
  },
  {
   "cell_type": "code",
   "execution_count": 7,
   "id": "24a95d8a-a7c2-4392-98c8-cc27eae653e8",
   "metadata": {},
   "outputs": [],
   "source": [
    "def create_dir(path):\n",
    "    if not os.path.exists(path):\n",
    "        os.makedirs(path)\n",
    "\n"
   ]
  },
  {
   "cell_type": "code",
   "execution_count": 8,
   "id": "17eed798-be3d-4533-b195-d40657c2cac9",
   "metadata": {},
   "outputs": [],
   "source": [
    "create_dir(save_path)"
   ]
  },
  {
   "cell_type": "code",
   "execution_count": null,
   "id": "350a65f5-070d-40ce-a101-91ba6db05d9a",
   "metadata": {},
   "outputs": [],
   "source": []
  }
 ],
 "metadata": {
  "kernelspec": {
   "display_name": "Python 3 (ipykernel)",
   "language": "python",
   "name": "python3"
  },
  "language_info": {
   "codemirror_mode": {
    "name": "ipython",
    "version": 3
   },
   "file_extension": ".py",
   "mimetype": "text/x-python",
   "name": "python",
   "nbconvert_exporter": "python",
   "pygments_lexer": "ipython3",
   "version": "3.9.19"
  }
 },
 "nbformat": 4,
 "nbformat_minor": 5
}
