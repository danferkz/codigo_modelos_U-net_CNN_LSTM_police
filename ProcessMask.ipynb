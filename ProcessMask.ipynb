{
 "cells": [
  {
   "cell_type": "code",
   "execution_count": 70,
   "id": "ca94f26f-e3c1-456b-9d64-4bb37664faf9",
   "metadata": {},
   "outputs": [],
   "source": [
    "import numpy as np\n",
    "import cv2\n",
    "import json\n",
    "import os"
   ]
  },
  {
   "cell_type": "code",
   "execution_count": 71,
   "id": "6f090da5-2f5f-464d-81d5-d06b1f06e76d",
   "metadata": {},
   "outputs": [
    {
     "name": "stdout",
     "output_type": "stream",
     "text": [
      "{'_via_settings': {'ui': {'annotation_editor_height': 25, 'annotation_editor_fontsize': 0.8, 'leftsidebar_width': 18, 'image_grid': {'img_height': 80, 'rshape_fill': 'none', 'rshape_fill_opacity': 0.3, 'rshape_stroke': 'yellow', 'rshape_stroke_width': 2, 'show_region_shape': True, 'show_image_policy': 'all'}, 'image': {'region_label': '__via_region_id__', 'region_color': '__via_default_region_color__', 'region_label_font': '10px Sans', 'on_image_annotation_editor_placement': 'NEAR_REGION'}}, 'core': {'buffer_size': 18, 'filepath': {}, 'default_filepath': ''}, 'project': {'name': 'mask4'}}, '_via_img_metadata': {'1000_F_400027824_3sVfw9ohnf0QIAuuzvsM3z0gmoXHY8rS.jpg7695': {'filename': '1000_F_400027824_3sVfw9ohnf0QIAuuzvsM3z0gmoXHY8rS.jpg', 'size': 7695, 'regions': [{'shape_attributes': {'name': 'polygon', 'all_points_x': [70, 50, 78, 136, 188, 211, 215, 205, 190, 156, 111, 85, 76, 70], 'all_points_y': [37, 81, 143, 171, 145, 101, 66, 47, 19, 15, 20, 24, 29, 34]}, 'region_attributes': {'name': 'face'}}], 'file_attributes': {}}, 'depositphotos_278981062-stock-photo-beautiful-young-woman-clean-fresh.jpg5699': {'filename': 'depositphotos_278981062-stock-photo-beautiful-young-woman-clean-fresh.jpg', 'size': 5699, 'regions': [{'shape_attributes': {'name': 'polygon', 'all_points_x': [96, 94, 99, 124, 143, 153, 154, 160, 160, 150, 125, 93, 97], 'all_points_y': [53, 88, 134, 163, 162, 145, 123, 98, 69, 37, 25, 46, 54]}, 'region_attributes': {'name': 'face'}}], 'file_attributes': {}}, 'images.jpg7500': {'filename': 'images.jpg', 'size': 7500, 'regions': [{'shape_attributes': {'name': 'polygon', 'all_points_x': [99, 82, 77, 106, 123, 165, 164, 160, 163, 137, 107, 98], 'all_points_y': [41, 79, 130, 207, 221, 184, 164, 97, 83, 35, 31, 46]}, 'region_attributes': {'name': 'face'}}], 'file_attributes': {}}, 'what-is-the-golden-ratio-of-facial-aesthetics.jpeg4720': {'filename': 'what-is-the-golden-ratio-of-facial-aesthetics.jpeg', 'size': 4720, 'regions': [{'shape_attributes': {'name': 'polygon', 'all_points_x': [142, 171, 182, 171, 107, 96, 104, 133, 141], 'all_points_y': [147, 115, 26, 2, 6, 39, 112, 146, 148]}, 'region_attributes': {'name': 'face\\n'}}], 'file_attributes': {}}}, '_via_attributes': {'region': {'name': {'type': 'text', 'description': '', 'default_value': ''}}, 'file': {}}, '_via_data_format_version': '2.0.10', '_via_image_id_list': ['1000_F_400027824_3sVfw9ohnf0QIAuuzvsM3z0gmoXHY8rS.jpg7695', 'depositphotos_278981062-stock-photo-beautiful-young-woman-clean-fresh.jpg5699', 'images.jpg7500', 'what-is-the-golden-ratio-of-facial-aesthetics.jpeg4720']}\n"
     ]
    }
   ],
   "source": [
    "f = open(\"mask6.json\",\"r\")\n",
    "data = json.load(f)\n",
    "print(data)"
   ]
  },
  {
   "cell_type": "code",
   "execution_count": 72,
   "id": "9f4bdeaa-9a09-4fd7-b6b4-ee41557f79e2",
   "metadata": {},
   "outputs": [
    {
     "name": "stdout",
     "output_type": "stream",
     "text": [
      "{'1000_F_400027824_3sVfw9ohnf0QIAuuzvsM3z0gmoXHY8rS.jpg7695': {'filename': '1000_F_400027824_3sVfw9ohnf0QIAuuzvsM3z0gmoXHY8rS.jpg', 'size': 7695, 'regions': [{'shape_attributes': {'name': 'polygon', 'all_points_x': [70, 50, 78, 136, 188, 211, 215, 205, 190, 156, 111, 85, 76, 70], 'all_points_y': [37, 81, 143, 171, 145, 101, 66, 47, 19, 15, 20, 24, 29, 34]}, 'region_attributes': {'name': 'face'}}], 'file_attributes': {}}, 'depositphotos_278981062-stock-photo-beautiful-young-woman-clean-fresh.jpg5699': {'filename': 'depositphotos_278981062-stock-photo-beautiful-young-woman-clean-fresh.jpg', 'size': 5699, 'regions': [{'shape_attributes': {'name': 'polygon', 'all_points_x': [96, 94, 99, 124, 143, 153, 154, 160, 160, 150, 125, 93, 97], 'all_points_y': [53, 88, 134, 163, 162, 145, 123, 98, 69, 37, 25, 46, 54]}, 'region_attributes': {'name': 'face'}}], 'file_attributes': {}}, 'images.jpg7500': {'filename': 'images.jpg', 'size': 7500, 'regions': [{'shape_attributes': {'name': 'polygon', 'all_points_x': [99, 82, 77, 106, 123, 165, 164, 160, 163, 137, 107, 98], 'all_points_y': [41, 79, 130, 207, 221, 184, 164, 97, 83, 35, 31, 46]}, 'region_attributes': {'name': 'face'}}], 'file_attributes': {}}, 'what-is-the-golden-ratio-of-facial-aesthetics.jpeg4720': {'filename': 'what-is-the-golden-ratio-of-facial-aesthetics.jpeg', 'size': 4720, 'regions': [{'shape_attributes': {'name': 'polygon', 'all_points_x': [142, 171, 182, 171, 107, 96, 104, 133, 141], 'all_points_y': [147, 115, 26, 2, 6, 39, 112, 146, 148]}, 'region_attributes': {'name': 'face\\n'}}], 'file_attributes': {}}}\n"
     ]
    }
   ],
   "source": [
    "data=data[\"_via_img_metadata\"]\n",
    "print(data)"
   ]
  },
  {
   "cell_type": "code",
   "execution_count": 73,
   "id": "01d8fe7c-6ff5-4787-a804-10c3014a1e0c",
   "metadata": {},
   "outputs": [],
   "source": [
    "img_dir=\"T:\\\\Projecto\\\\Imagenes3\"\n",
    "mask_dir=\"T:\\\\Projecto\\\\Mask3\""
   ]
  },
  {
   "cell_type": "code",
   "execution_count": 75,
   "id": "ee28a77a-5d05-4b95-ab88-050c9edf3cf2",
   "metadata": {},
   "outputs": [
    {
     "name": "stdout",
     "output_type": "stream",
     "text": [
      "256 256\n",
      "256 256\n",
      "256 256\n",
      "256 256\n"
     ]
    }
   ],
   "source": [
    "for key, value in data.items():\n",
    "    filename=value[\"filename\"]\n",
    "    img_path=f\"{img_dir}\\\\{filename}\"\n",
    "    img=cv2.imread(img_path, cv2.IMREAD_COLOR)\n",
    "    h,w,_ =img.shape\n",
    "    print(h,w)\n",
    "    mask = np.zeros((h,w))\n",
    "\n",
    "    \n",
    "    regions = value[\"regions\"]\n",
    "    for region in regions:\n",
    "        shape_attribute = region[\"shape_attributes\"]\n",
    "        x_points=shape_attribute[\"all_points_x\"]\n",
    "        y_points=shape_attribute[\"all_points_y\"]\n",
    "        contours=[]\n",
    "        for x,y in zip(x_points,y_points):\n",
    "            contours.append((x,y))\n",
    "        contours=np.array(contours)\n",
    "    \n",
    "        cv2.drawContours(mask, [contours],-1,255,-1)\n",
    "        cv2.imwrite(f\"{mask_dir}\\\\{filename}\", mask)"
   ]
  },
  {
   "cell_type": "code",
   "execution_count": null,
   "id": "7187a32c-2ceb-435f-8101-ba7b3e0a942b",
   "metadata": {},
   "outputs": [],
   "source": []
  },
  {
   "cell_type": "code",
   "execution_count": null,
   "id": "cd6a3c8a-b2a6-4eb9-8b1b-d7a1a90699dc",
   "metadata": {},
   "outputs": [],
   "source": []
  }
 ],
 "metadata": {
  "kernelspec": {
   "display_name": "Python 3 (ipykernel)",
   "language": "python",
   "name": "python3"
  },
  "language_info": {
   "codemirror_mode": {
    "name": "ipython",
    "version": 3
   },
   "file_extension": ".py",
   "mimetype": "text/x-python",
   "name": "python",
   "nbconvert_exporter": "python",
   "pygments_lexer": "ipython3",
   "version": "3.9.19"
  }
 },
 "nbformat": 4,
 "nbformat_minor": 5
}
