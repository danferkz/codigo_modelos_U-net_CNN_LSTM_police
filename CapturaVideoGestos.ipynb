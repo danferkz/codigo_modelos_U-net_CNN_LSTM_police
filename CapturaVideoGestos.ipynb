{
 "cells": [
  {
   "cell_type": "code",
   "execution_count": 431,
   "id": "f5fe0a0e-f734-49f3-b2af-c4493c1b6521",
   "metadata": {},
   "outputs": [],
   "source": [
    "import cv2\n",
    "import os\n",
    "import time\n",
    "from datetime import datetime"
   ]
  },
  {
   "cell_type": "code",
   "execution_count": 432,
   "id": "dd57ba31-ecb3-4558-b7d6-97519e636c9a",
   "metadata": {},
   "outputs": [],
   "source": [
    "ruta_guardado = r\"T:\\videos\\AvanzarFrontal\"\n"
   ]
  },
  {
   "cell_type": "code",
   "execution_count": 433,
   "id": "911a2815-f4a7-4841-b6b9-054585edcd3b",
   "metadata": {},
   "outputs": [],
   "source": [
    "cap = cv2.VideoCapture(1)"
   ]
  },
  {
   "cell_type": "code",
   "execution_count": null,
   "id": "7368cecb-714c-44ad-bfaf-b2c3d31a3543",
   "metadata": {},
   "outputs": [],
   "source": []
  },
  {
   "cell_type": "code",
   "execution_count": 434,
   "id": "9a40b760-661e-46f8-bec1-3bca71d38bac",
   "metadata": {},
   "outputs": [],
   "source": [
    "def generate_filename():\n",
    "    timestamp = datetime.now().strftime(\"%Y%m%d_%H%M%S\")\n",
    "    return f\"video_{timestamp}.avi\""
   ]
  },
  {
   "cell_type": "code",
   "execution_count": 435,
   "id": "0f6feb28-beb0-4b73-89af-893bc66e1934",
   "metadata": {},
   "outputs": [],
   "source": [
    "time.sleep(2)\n",
    "start_time = time.time()\n",
    "filename = generate_filename()\n",
    "nombre_archivo = filename\n",
    "ruta_completa = os.path.join(ruta_guardado, nombre_archivo)\n",
    "fourcc = cv2.VideoWriter_fourcc(*'XVID')\n",
    "out = cv2.VideoWriter(ruta_completa, fourcc, 20.0, (640, 480))"
   ]
  },
  {
   "cell_type": "code",
   "execution_count": 436,
   "id": "d508c8f9-054c-4ecf-a3a5-248b6a163c82",
   "metadata": {},
   "outputs": [],
   "source": [
    "while True:\n",
    "    ret, frame = cap.read()\n",
    "    if ret:\n",
    "        # Mostrar el frame\n",
    "        cv2.imshow('frame', frame)\n",
    "        # Guardar el frame en el archivo\n",
    "        out.write(frame)\n",
    "\n",
    "        # Si han pasado 20 segundos, salir del bucle\n",
    "        if time.time() - start_time > 20:\n",
    "            break\n",
    "    else:\n",
    "        break\n",
    "\n",
    "    # Salir con 'q'\n",
    "    if cv2.waitKey(1) & 0xFF == ord('q'):\n",
    "        break"
   ]
  },
  {
   "cell_type": "code",
   "execution_count": 437,
   "id": "aaff788f-63b3-4b63-b27d-ffb2fbad580a",
   "metadata": {},
   "outputs": [],
   "source": [
    "cap.release()\n",
    "out.release()\n",
    "cv2.destroyAllWindows()"
   ]
  },
  {
   "cell_type": "code",
   "execution_count": null,
   "id": "c42b1e8f-b3d9-455f-8a44-813aee5c3113",
   "metadata": {},
   "outputs": [],
   "source": []
  },
  {
   "cell_type": "code",
   "execution_count": null,
   "id": "9a9044ea-bc99-4df9-ac55-50b77748a108",
   "metadata": {},
   "outputs": [],
   "source": []
  }
 ],
 "metadata": {
  "kernelspec": {
   "display_name": "Python 3 (ipykernel)",
   "language": "python",
   "name": "python3"
  },
  "language_info": {
   "codemirror_mode": {
    "name": "ipython",
    "version": 3
   },
   "file_extension": ".py",
   "mimetype": "text/x-python",
   "name": "python",
   "nbconvert_exporter": "python",
   "pygments_lexer": "ipython3",
   "version": "3.9.19"
  }
 },
 "nbformat": 4,
 "nbformat_minor": 5
}
